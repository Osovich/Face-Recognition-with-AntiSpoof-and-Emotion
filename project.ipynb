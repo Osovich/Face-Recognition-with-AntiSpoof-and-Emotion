{
 "cells": [
  {
   "cell_type": "markdown",
   "id": "244c2478",
   "metadata": {},
   "source": [
    "# 1. Imports and Data Preparation"
   ]
  },
  {
   "cell_type": "code",
   "execution_count": null,
   "id": "453f65ea",
   "metadata": {},
   "outputs": [
    {
     "name": "stdout",
     "output_type": "stream",
     "text": [
      "classes = 4000\n"
     ]
    }
   ],
   "source": [
    "from pathlib import Path\n",
    "from torchvision import transforms, datasets\n",
    "from torch.utils.data import DataLoader\n",
    "import torch.nn.functional as F\n",
    "import pandas as pd\n",
    "\n",
    "from pytorch_metric_learning.losses import TripletMarginLoss\n",
    "from pytorch_metric_learning.miners import DistanceWeightedMiner\n",
    "import torch, torch.nn as nn\n",
    "from torchvision.models import resnet18, ResNet18_Weights\n",
    "from sklearn.metrics import roc_auc_score\n",
    "from torchvision.datasets.folder import default_loader   # PIL opener\n",
    "DATASET_ROOT = Path(\"dataset\")\n",
    "\n",
    "CLASS_ROOT = DATASET_ROOT / \"classification_data\"       # train/val/test live here\n",
    "PAIRS_TXT  = DATASET_ROOT / \"verification_pairs_val.txt\"\n",
    "\n",
    "train_tf = transforms.Compose([ # data augmentation for training\n",
    "    transforms.Resize(128), transforms.CenterCrop(112), # resize to 112x112 and center crop\n",
    "    transforms.RandomHorizontalFlip(), transforms.ToTensor(),   # random flip\n",
    "    transforms.Normalize([0.5]*3, [0.5]*3)  # normalize to [-1, 1] using ImageNet stats\n",
    "])\n",
    "\n",
    "\n",
    "def get_loader(split, batch=128, shuffle=True, workers=8):\n",
    "    \"\"\"\n",
    "    split   : 'train', 'val', or 'test'\n",
    "    batch   : mini-batch size\n",
    "    workers : number of background CPU processes that feed the GPU\n",
    "    \"\"\"\n",
    "    folder = CLASS_ROOT / f\"{split}_data\"\n",
    "    ds = datasets.ImageFolder(folder, transform=train_tf)\n",
    "\n",
    "    return DataLoader(  # create a DataLoader for the dataset\n",
    "        ds,\n",
    "        batch_size=batch,\n",
    "        shuffle=shuffle,\n",
    "        num_workers=workers,     # background CPU processes\n",
    "        pin_memory=True,         # faster CPU→GPU copies\n",
    "        persistent_workers=True, # keep workers alive between epochs\n",
    "        prefetch_factor=4        # each worker queues 4 batches ahead\n",
    "    )\n",
    "\n",
    "train_loader = get_loader(\"train\", workers=8)\n",
    "val_loader   = get_loader(\"val\", shuffle=False, workers=8)\n",
    "test_loader  = get_loader(\"test\", shuffle=False, workers=8)\n",
    "\n",
    "n_classes = len(train_loader.dataset.classes)   # number of classes\n",
    "print(\"classes =\", n_classes)\n"
   ]
  },
  {
   "cell_type": "markdown",
   "id": "48396ac5",
   "metadata": {},
   "source": [
    "# 2. Check CUDA Availability"
   ]
  },
  {
   "cell_type": "code",
   "execution_count": null,
   "id": "c76b563b",
   "metadata": {},
   "outputs": [
    {
     "name": "stdout",
     "output_type": "stream",
     "text": [
      "True\n",
      "NVIDIA GeForce RTX 3070 Laptop GPU\n",
      "12.1\n"
     ]
    }
   ],
   "source": [
    "print(torch.cuda.is_available())       # → True\n",
    "print(torch.cuda.get_device_name(0))   # → NVIDIA GeForce RTX 3070 Laptop GPU\n",
    "print(torch.version.cuda)              # → 12.1\n"
   ]
  },
  {
   "cell_type": "markdown",
   "id": "c448647b",
   "metadata": {},
   "source": [
    "# 3. Load Verification Pairs and Prepare Paths"
   ]
  },
  {
   "cell_type": "code",
   "execution_count": null,
   "id": "2f2f221f",
   "metadata": {},
   "outputs": [],
   "source": [
    "pairs = pd.read_csv(PAIRS_TXT, sep=\" \", header=None,\n",
    "                    names=[\"img1\",\"img2\",\"label\"])\n",
    "pairs[\"img1\"] = pairs[\"img1\"].apply(lambda p: DATASET_ROOT / p)\n",
    "pairs[\"img2\"] = pairs[\"img2\"].apply(lambda p: DATASET_ROOT / p)\n",
    "VERI_DIR = Path(\"verification_data\")\n"
   ]
  },
  {
   "cell_type": "markdown",
   "id": "d2d95047",
   "metadata": {},
   "source": [
    "# 4. Define and Initialize Classifier Model"
   ]
  },
  {
   "cell_type": "code",
   "execution_count": null,
   "id": "1ae90064",
   "metadata": {},
   "outputs": [],
   "source": [
    "\n",
    "\n",
    "device = \"cuda\" if torch.cuda.is_available() else \"cpu\"\n",
    "net = resnet18(weights=ResNet18_Weights.IMAGENET1K_V1)  # load a pre-trained ResNet-18 model\n",
    "                  # start from scratch\n",
    "net.fc = nn.Linear(net.fc.in_features, n_classes)   # replace the final layer with a new one\n",
    "net.to(device)  # move to GPU if available\n",
    "\n",
    "opt_cls  = torch.optim.Adam(net.parameters(), lr=1e-3)  # optimizer for classification\n",
    "ce   = nn.CrossEntropyLoss()    # loss function for classification\n"
   ]
  },
  {
   "cell_type": "markdown",
   "id": "3cc48a80",
   "metadata": {},
   "source": [
    "# 5. Print DataLoader Info"
   ]
  },
  {
   "cell_type": "code",
   "execution_count": 5,
   "id": "3f437af7",
   "metadata": {},
   "outputs": [
    {
     "name": "stdout",
     "output_type": "stream",
     "text": [
      "train images : 380638\n",
      "batch size   : 128\n",
      "batches/epoch: 2974\n"
     ]
    }
   ],
   "source": [
    "print(\"train images :\", len(train_loader.dataset))\n",
    "print(\"batch size   :\", train_loader.batch_size)\n",
    "print(\"batches/epoch:\", len(train_loader))\n"
   ]
  },
  {
   "cell_type": "markdown",
   "id": "c64373b2",
   "metadata": {},
   "source": [
    "# 6. Train or Load Classifier Model"
   ]
  },
  {
   "cell_type": "code",
   "execution_count": null,
   "id": "b382128d",
   "metadata": {},
   "outputs": [
    {
     "name": "stdout",
     "output_type": "stream",
     "text": [
      "✅  Loaded classifier from models\\resnet_face_cls_epoch10.pth (val acc 63.513%)\n"
     ]
    },
    {
     "name": "stderr",
     "output_type": "stream",
     "text": [
      "C:\\Users\\terif\\AppData\\Local\\Temp\\ipykernel_22136\\1869090912.py:9: FutureWarning: You are using `torch.load` with `weights_only=False` (the current default value), which uses the default pickle module implicitly. It is possible to construct malicious pickle data which will execute arbitrary code during unpickling (See https://github.com/pytorch/pytorch/blob/main/SECURITY.md#untrusted-models for more details). In a future release, the default value for `weights_only` will be flipped to `True`. This limits the functions that could be executed during unpickling. Arbitrary objects will no longer be allowed to be loaded via this mode unless they are explicitly allowlisted by the user via `torch.serialization.add_safe_globals`. We recommend you start setting `weights_only=True` for any use case where you don't have full control of the loaded file. Please open an issue on GitHub for any issues related to this experimental feature.\n",
      "  ckpt = torch.load(checkpoint_path, map_location=device)\n"
     ]
    }
   ],
   "source": [
    "# ------------------------------------------------------------------\n",
    "# 0.  Paths and helper\n",
    "# ------------------------------------------------------------------\n",
    "CKPT_DIR  = Path(\"models\")\n",
    "CKPT_FILE = CKPT_DIR / \"resnet_face_cls_epoch10.pth\"\n",
    "CKPT_DIR.mkdir(parents=True, exist_ok=True)\n",
    "\n",
    "def load_classifier(checkpoint_path):\n",
    "    ckpt = torch.load(checkpoint_path, map_location=device)\n",
    "    net.load_state_dict(ckpt[\"model_state\"])\n",
    "    opt_cls.load_state_dict(ckpt[\"optimizer_state\"])\n",
    "    print(f\"✅  Loaded classifier from {checkpoint_path} (val acc {ckpt['val_acc']:.3%})\")\n",
    "\n",
    "# ------------------------------------------------------------------\n",
    "# 1.  Either load or train\n",
    "# ------------------------------------------------------------------\n",
    "if CKPT_FILE.exists():\n",
    "    load_classifier(CKPT_FILE)\n",
    "\n",
    "else:\n",
    "    from tqdm import tqdm   # progress bar\n",
    "\n",
    "    EPOCHS = 10\n",
    "    for epoch in range(EPOCHS):\n",
    "        net.train()\n",
    "        for x, y in tqdm(train_loader, desc=f\"epoch {epoch}\"):\n",
    "            x = x.to(device, non_blocking=True) # non_blocking=True speeds up GPU transfer\n",
    "            y = y.to(device, non_blocking=True)\n",
    "            opt_cls.zero_grad()\n",
    "            ce(net(x), y).backward()\n",
    "            opt_cls.step()\n",
    "\n",
    "        # quick val accuracy\n",
    "        net.eval(); correct = total = 0\n",
    "        with torch.no_grad():   # no gradients needed for validation\n",
    "            for x, y in val_loader:\n",
    "                preds = net(x.to(device)).argmax(1) # get class predictions\n",
    "                correct += (preds.cpu() == y).sum().item()  # count correct\n",
    "                total   += y.size(0)    # count total images\n",
    "        val_acc = correct / total   # accuracy in [0, 1]\n",
    "        print(f\"epoch {epoch}: val acc = {val_acc:.3%}\")\n",
    "\n",
    "    # save once, after the final epoch\n",
    "    torch.save({\n",
    "        \"epoch\": epoch,\n",
    "        \"model_state\": net.state_dict(),\n",
    "        \"optimizer_state\": opt_cls.state_dict(),\n",
    "        \"val_acc\": val_acc\n",
    "    }, CKPT_FILE)\n",
    "    print(\"💾  Saved classifier to\", CKPT_FILE)\n",
    "\n"
   ]
  },
  {
   "cell_type": "markdown",
   "id": "b7062fe5",
   "metadata": {},
   "source": [
    "# 7. Define Embedding Network and PK Sampler"
   ]
  },
  {
   "cell_type": "code",
   "execution_count": null,
   "id": "3f13c0ab",
   "metadata": {},
   "outputs": [],
   "source": [
    "from pytorch_metric_learning.samplers import MPerClassSampler\n",
    "from torch.utils.data import BatchSampler\n",
    "from torchvision.models import resnet50, ResNet50_Weights\n",
    "\n",
    "class EmbNet(nn.Module):\n",
    "    def __init__(self, dim=512):\n",
    "        super().__init__()\n",
    "        self.backbone = resnet50(weights=ResNet50_Weights.IMAGENET1K_V1)    # load a pre-trained ResNet-50 model\n",
    "        self.backbone.fc = nn.Identity()    # remove the final classification layer\n",
    "        self.bn = nn.BatchNorm1d(2048)           # “BN-neck” :contentReference[oaicite:4]{index=4}\n",
    "        self.fc = nn.Linear(2048, dim, bias=False)  # projection head to a lower dimension\n",
    "        \n",
    "    def forward(self,x):\n",
    "        z = self.bn(self.backbone(x))   # extract features from the backbone\n",
    "        z = F.normalize(self.fc(z), dim=1)  # normalize the features and project to a lower dimension\n",
    "        return z\n",
    "P,K,STEPS = 16,4, 50_000    # 16 images per class, 4 classes per batch, 50k batches\n",
    "train_ds  = datasets.ImageFolder(CLASS_ROOT / \"train_data\", transform=train_tf)\n",
    "labels    = [y for _, y in train_ds.samples]    # list of class labels for each image\n",
    "\n",
    "pk_sampler  = MPerClassSampler(labels, m=K, batch_size=P*K,\n",
    "                               length_before_new_iter=len(train_ds))\n",
    "\n",
    "sampler = MPerClassSampler(labels, m=K, \n",
    "                           length_before_new_iter=len(train_ds))\n",
    "\n",
    "batch_sampler = BatchSampler(   # MPerClassSampler\n",
    "    sampler,\n",
    "    batch_size=P*K,           # 64\n",
    "    drop_last=True  # drop the last batch if it has fewer than 64 images\n",
    ")\n",
    "\n",
    "train_loader = DataLoader(  # 16 images per class, 4 classes per batch\n",
    "    train_ds,\n",
    "    batch_sampler=batch_sampler,      \n",
    "    num_workers=8, pin_memory=True\n",
    ")\n",
    "\n"
   ]
  },
  {
   "cell_type": "markdown",
   "id": "dd0a6588",
   "metadata": {},
   "source": [
    "# 8. Initialize Embedding Model, Optimizer, and Loss"
   ]
  },
  {
   "cell_type": "code",
   "execution_count": null,
   "id": "6f190569",
   "metadata": {},
   "outputs": [],
   "source": [
    "\n",
    "device = \"cuda\" if torch.cuda.is_available() else \"cpu\"\n",
    "emb_net = EmbNet(dim=512)       # 512-dim embeddings\n",
    "emb_net.to(device)\n",
    "optim = torch.optim.AdamW(emb_net.parameters(), 1e-4, weight_decay=1e-4)    # AdamW optimizer\n",
    "sched = torch.optim.lr_scheduler.CosineAnnealingLR(optim, T_max=STEPS)  # cosine decay scheduler\n",
    "\n",
    "criterion = TripletMarginLoss(margin=0.3)   #  triplet loss with margin 0.3\n",
    "miner = DistanceWeightedMiner() #  distance-weighted miner"
   ]
  },
  {
   "cell_type": "markdown",
   "id": "cd08d840",
   "metadata": {},
   "source": [
    "# 9. Train or Load Triplet Embedding Model"
   ]
  },
  {
   "cell_type": "code",
   "execution_count": null,
   "id": "d8d4cc94",
   "metadata": {},
   "outputs": [
    {
     "name": "stdout",
     "output_type": "stream",
     "text": [
      "step      0, loss 0.4306\n",
      "step   1000, loss 0.4129\n",
      "step   2000, loss 0.3482\n",
      "step   3000, loss 0.2799\n",
      "step   4000, loss 0.2907\n",
      "step   5000, loss 0.3990\n",
      "step   6000, loss 0.3428\n",
      "step   7000, loss 0.3123\n",
      "step   8000, loss 0.3062\n",
      "step   9000, loss 0.3035\n",
      "step  10000, loss 0.3336\n",
      "step  11000, loss 0.2577\n",
      "step  12000, loss 0.3025\n",
      "step  13000, loss 0.2498\n",
      "step  14000, loss 0.2377\n",
      "step  15000, loss 0.2981\n",
      "step  16000, loss 0.3374\n",
      "step  17000, loss 0.2809\n",
      "step  18000, loss 0.3457\n",
      "step  19000, loss 0.3288\n",
      "step  20000, loss 0.2738\n",
      "step  21000, loss 0.3670\n",
      "step  22000, loss 0.2605\n",
      "step  23000, loss 0.2692\n",
      "step  24000, loss 0.3300\n",
      "step  25000, loss 0.3466\n",
      "step  26000, loss 0.3008\n",
      "step  27000, loss 0.2803\n",
      "step  28000, loss 0.2688\n",
      "step  29000, loss 0.3829\n",
      "step  30000, loss 0.3499\n",
      "step  31000, loss 0.2619\n",
      "step  32000, loss 0.2605\n",
      "step  33000, loss 0.2121\n",
      "step  34000, loss 0.2629\n",
      "step  35000, loss 0.2409\n",
      "step  36000, loss 0.3722\n",
      "step  37000, loss 0.2158\n",
      "step  38000, loss 0.2332\n",
      "step  39000, loss 0.2823\n",
      "step  40000, loss 0.2143\n",
      "step  41000, loss 0.2590\n",
      "step  42000, loss 0.2904\n",
      "step  43000, loss 0.2385\n",
      "step  44000, loss 0.2808\n",
      "step  45000, loss 0.2556\n",
      "step  46000, loss 0.1942\n",
      "step  47000, loss 0.1951\n",
      "step  48000, loss 0.2362\n",
      "step  49000, loss 0.2490\n",
      "💾  Saved EmbNet to models\\embnet_triplet_15k.pth\n"
     ]
    }
   ],
   "source": [
    "# ------------------------------------------------------------------\n",
    "# 0.  Paths and helper for triplet model\n",
    "# ------------------------------------------------------------------\n",
    "CKPT_EMB = Path(\"models/embnet_triplet_15k.pth\")\n",
    "\n",
    "\n",
    "def load_embnet(path):  # load the model and optimizer state from a checkpoint\n",
    "    ckpt = torch.load(path, map_location=device)\n",
    "    emb_net.load_state_dict(ckpt[\"model_state\"])\n",
    "    optim.load_state_dict(ckpt[\"optimizer_state\"])\n",
    "    print(f\"✅  Loaded EmbNet ({ckpt['steps']} steps, loss {ckpt['loss']:.4f})\")\n",
    "loss = torch.tensor(0.0)\n",
    "# ------------------------------------------------------------------\n",
    "# 1.  Either load or train\n",
    "# ------------------------------------------------------------------\n",
    "if CKPT_EMB.exists():   # if the checkpoint exists, load it\n",
    "    load_embnet(CKPT_EMB)\n",
    "\n",
    "else:\n",
    "    step  = 0\n",
    "    emb_net.train()\n",
    "\n",
    "    while step < STEPS: # 50k steps\n",
    "        for x, y in train_loader:          # DataLoader restarts itself every epoch\n",
    "            x, y = x.to(device), y.to(device)   # move to GPU\n",
    "            optim.zero_grad()         # reset gradients\n",
    "            e = emb_net(x)            # e.shape = (B, 512) where B = P*K\n",
    "            loss = criterion(e, y, miner(e, y)) # compute triplet loss\n",
    "            loss.backward()       # backpropagate\n",
    "            optim.step(); sched.step()  # update weights and scheduler\n",
    "            if step % 1_000 == 0:   # print every 1000 steps\n",
    "                print(f\"step {step:>6}, loss {loss.item():.4f}\")\n",
    "\n",
    "            step += 1\n",
    "            if step >= STEPS:   # stop after STEPS steps\n",
    "                break          \n",
    "\n",
    "    torch.save({    # save the model and optimizer state\n",
    "        \"steps\": STEPS,\n",
    "        \"model_state\": emb_net.state_dict(),\n",
    "        \"optimizer_state\": optim.state_dict(),\n",
    "        \"loss\": loss.item()          \n",
    "    }, CKPT_EMB)\n",
    "    print(\"💾  Saved EmbNet to\", CKPT_EMB)\n"
   ]
  },
  {
   "cell_type": "markdown",
   "id": "362f83a9",
   "metadata": {},
   "source": [
    "# 10. Build Verification Dataset and Cache Embeddings"
   ]
  },
  {
   "cell_type": "code",
   "execution_count": null,
   "id": "3fa7bd45",
   "metadata": {},
   "outputs": [],
   "source": [
    "\n",
    "\n",
    "VERI_DIR = DATASET_ROOT / \"verification_data\"            # absolute dir\n",
    "\n",
    "# ---------------- dataset -----------------------------------------\n",
    "class VeriSet(torch.utils.data.Dataset):    # dataset loading for verification\n",
    "    def __init__(self, root, transform):\n",
    "        self.paths     = list(root.rglob(\"*.jpg\"))\n",
    "        self.transform = transform  # torchvision transforms\n",
    "    def __len__(self):\n",
    "        return len(self.paths)\n",
    "    def __getitem__(self, idx):\n",
    "        img = default_loader(self.paths[idx])            # PIL image\n",
    "        return self.transform(img), self.paths[idx]      # (tensor, Path)\n",
    "\n",
    "# ---------------- custom collate  ---------------------------------\n",
    "def collate_fn(batch):\n",
    "    imgs, paths = zip(*batch)                 # two tuples\n",
    "    imgs  = torch.stack(imgs, 0)              # (B,3,112,112) tensor\n",
    "    paths = list(paths)                       # keep Paths as-is\n",
    "    return imgs, paths\n",
    "\n",
    "# ---------------- loader ------------------------------------------\n",
    "veri_ds     = VeriSet(VERI_DIR, train_tf)\n",
    "veri_loader = DataLoader(\n",
    "    veri_ds,\n",
    "    batch_size=128,\n",
    "    shuffle=False,\n",
    "    num_workers=0,          # single process is fine for cached images\n",
    "    pin_memory=True,\n",
    "    collate_fn=collate_fn   # ← key addition\n",
    ")\n",
    "\n",
    "relkey = lambda p: str(p.relative_to(DATASET_ROOT))      # helper\n",
    "\n",
    "# ---------------- embed & cache -----------------------------------\n",
    "emb_cache = {}\n",
    "emb_net.eval()\n",
    "# 1. build the cache with relative-string keys\n",
    "with torch.no_grad():\n",
    "    for batch, paths in veri_loader:\n",
    "        batch = batch.to(device, non_blocking=True)\n",
    "        vecs  = emb_net(batch).cpu()\n",
    "        for p, v in zip(paths, vecs):\n",
    "            emb_cache[relkey(p)] = v\n"
   ]
  },
  {
   "cell_type": "markdown",
   "id": "bc801b80",
   "metadata": {},
   "source": [
    "# 11. Compute Cosine Similarity AUC for Triplet Embeddings"
   ]
  },
  {
   "cell_type": "code",
   "execution_count": null,
   "id": "d93cbb59",
   "metadata": {},
   "outputs": [
    {
     "name": "stdout",
     "output_type": "stream",
     "text": [
      "AUC = 0.941119263355932\n"
     ]
    }
   ],
   "source": [
    "\n",
    "\n",
    "scores, labels = [], []\n",
    "for _, r in pairs.iterrows():\n",
    "    v1 = emb_cache[relkey(r.img1)]\n",
    "    v2 = emb_cache[relkey(r.img2)]\n",
    "    sim = F.cosine_similarity(v1, v2, dim=0)   # ← specify dim=0\n",
    "    scores.append(sim.item())\n",
    "    labels.append(r.label)\n",
    "\n",
    "print(\"Linear Metric AUC =\", roc_auc_score(labels, scores))\n",
    "\n"
   ]
  },
  {
   "cell_type": "markdown",
   "id": "96ed51bf",
   "metadata": {},
   "source": [
    "# 12. Extract Features from Classifier and Compute AUC"
   ]
  },
  {
   "cell_type": "code",
   "execution_count": null,
   "id": "732f0b9a",
   "metadata": {},
   "outputs": [
    {
     "name": "stdout",
     "output_type": "stream",
     "text": [
      "Classifier-embedding AUC = 0.8822396622338298\n"
     ]
    }
   ],
   "source": [
    "# -----------------------------------------------\n",
    "# helper to extract 512-d features from 'net'\n",
    "# -----------------------------------------------\n",
    "class ClassifierFeats(nn.Module):\n",
    "    def __init__(self, model):\n",
    "        super().__init__()\n",
    "        self.backbone = nn.Sequential(*list(model.children())[:-1])  # everything but the final fc layer\n",
    "    def forward(self, x):\n",
    "        x = self.backbone(x)            # (B,512,1,1)\n",
    "        x = torch.flatten(x, 1)         # (B,512)\n",
    "        return torch.nn.functional.normalize(x, dim=1)\n",
    "\n",
    "cls_feat = ClassifierFeats(net).to(device).eval()\n",
    "\n",
    "# build a second cache\n",
    "cls_cache = {}\n",
    "with torch.no_grad():\n",
    "    for batch, paths in veri_loader:\n",
    "        batch = batch.to(device, non_blocking=True)\n",
    "        vecs  = cls_feat(batch).cpu()            # (B,512)\n",
    "        for p, v in zip(paths, vecs):\n",
    "            cls_cache[relkey(p)] = v\n",
    "\n",
    "# compute AUC\n",
    "scores_cls, labels = [], []\n",
    "for _, r in pairs.iterrows():\n",
    "    v1 = cls_cache[relkey(r.img1)]\n",
    "    v2 = cls_cache[relkey(r.img2)]\n",
    "    scores_cls.append(F.cosine_similarity(v1, v2, dim=0).item())\n",
    "    labels.append(r.label)\n",
    "\n",
    "print(\"Classifier-embedding AUC =\", roc_auc_score(labels, scores_cls))\n"
   ]
  },
  {
   "cell_type": "markdown",
   "id": "da62c851",
   "metadata": {},
   "source": [
    "# 13. Plot ROC Curves for Classifier and Triplet Embeddings"
   ]
  },
  {
   "cell_type": "code",
   "execution_count": null,
   "id": "ce53b053",
   "metadata": {},
   "outputs": [
    {
     "name": "stdout",
     "output_type": "stream",
     "text": [
      "Classifier AUC  : 0.8822\n",
      "Triplet  AUC    : 0.9411\n"
     ]
    }
   ],
   "source": [
    "from sklearn.metrics import roc_curve, auc\n",
    "\n",
    "# ------------ classifier -----------------\n",
    "fpr_cls, tpr_cls, _ = roc_curve(labels, scores_cls)\n",
    "auc_cls = auc(fpr_cls, tpr_cls)\n",
    "\n",
    "# ------------ triplet embedding ----------\n",
    "fpr_emb, tpr_emb, _ = roc_curve(labels, scores)\n",
    "auc_emb = auc(fpr_emb, tpr_emb)\n",
    "\n",
    "print(f\"Classifier AUC  : {auc_cls:.4f}\")\n",
    "print(f\"Triplet  AUC    : {auc_emb:.4f}\")\n"
   ]
  },
  {
   "cell_type": "code",
   "execution_count": 19,
   "id": "acafa1dc",
   "metadata": {},
   "outputs": [
    {
     "data": {
      "image/png": "[encoded data removed]",
      "text/plain": [
       "<Figure size 640x480 with 1 Axes>"
      ]
     },
     "metadata": {},
     "output_type": "display_data"
    }
   ],
   "source": [
    "import matplotlib.pyplot as plt\n",
    "\n",
    "plt.figure()                       # one dedicated figure\n",
    "plt.plot(fpr_cls, tpr_cls)\n",
    "plt.plot([0, 1], [0, 1], linestyle=\"--\")   # random-guess line\n",
    "plt.xlabel(\"False-Positive Rate\")\n",
    "plt.ylabel(\"True-Positive Rate\")\n",
    "plt.title(f\"Classifier ROC (AUC = {auc_cls:.3f})\")\n",
    "plt.grid(True)\n",
    "plt.show()\n"
   ]
  },
  {
   "cell_type": "code",
   "execution_count": 20,
   "id": "60e42649",
   "metadata": {},
   "outputs": [
    {
     "data": {
      "image/png": "[encoded data removed]",
      "text/plain": [
       "<Figure size 640x480 with 1 Axes>"
      ]
     },
     "metadata": {},
     "output_type": "display_data"
    }
   ],
   "source": [
    "plt.figure()                       # separate figure\n",
    "plt.plot(fpr_emb, tpr_emb)\n",
    "plt.plot([0, 1], [0, 1], linestyle=\"--\")\n",
    "plt.xlabel(\"False-Positive Rate\")\n",
    "plt.ylabel(\"True-Positive Rate\")\n",
    "plt.title(f\"Triplet Embedding ROC (AUC = {auc_emb:.3f})\")\n",
    "plt.grid(True)\n",
    "plt.show()\n"
   ]
  },
  {
   "cell_type": "code",
   "execution_count": null,
   "id": "da3cc91a",
   "metadata": {},
   "outputs": [
    {
     "name": "stdout",
     "output_type": "stream",
     "text": [
      "Classifier AUC (Euclidean) = 0.8822\n"
     ]
    }
   ],
   "source": [
    "# Euclidean AUC for classifier embeddings\n",
    "scores_cls_euc, labels_cls = [], []\n",
    "for _, r in pairs.iterrows():\n",
    "    v1 = cls_cache[relkey(r.img1)]\n",
    "    v2 = cls_cache[relkey(r.img2)]\n",
    "    sim = -torch.norm(v1 - v2, p=2).item()   # negative so \"higher is more similar\"\n",
    "    scores_cls_euc.append(sim)\n",
    "    labels_cls.append(r.label)\n",
    "\n",
    "auc_cls_euc = roc_auc_score(labels_cls, scores_cls_euc)\n",
    "print(f\"Classifier AUC (Euclidean) = {auc_cls_euc:.4f}\")\n"
   ]
  },
  {
   "cell_type": "code",
   "execution_count": null,
   "id": "41f2f0d0",
   "metadata": {},
   "outputs": [
    {
     "name": "stdout",
     "output_type": "stream",
     "text": [
      "AUC (Euclidean) = 0.9411\n"
     ]
    }
   ],
   "source": [
    "# Euclidean-distance baseline\n",
    "from sklearn.metrics import roc_auc_score\n",
    "\n",
    "scores_euc, labels_euc = [], []\n",
    "for _, r in pairs.iterrows():\n",
    "    v1 = emb_cache[relkey(r.img1)]\n",
    "    v2 = emb_cache[relkey(r.img2)]\n",
    "\n",
    "    # negative Euclidean distance (higher = more similar)\n",
    "    sim_euc = -torch.norm(v1 - v2, p=2).item()\n",
    "    scores_euc.append(sim_euc)\n",
    "    labels_euc.append(r.label)\n",
    "\n",
    "auc_euc = roc_auc_score(labels_euc, scores_euc)\n",
    "print(f\"Triplet AUC (Euclidean) = {auc_euc:.4f}\")\n"
   ]
  },
  {
   "cell_type": "code",
   "execution_count": 23,
   "id": "79660d9d",
   "metadata": {},
   "outputs": [
    {
     "data": {
      "image/png": "[encoded data removed]",
      "text/plain": [
       "<Figure size 640x480 with 1 Axes>"
      ]
     },
     "metadata": {},
     "output_type": "display_data"
    }
   ],
   "source": [
    "from sklearn.metrics import roc_curve, auc\n",
    "import matplotlib.pyplot as plt\n",
    "\n",
    "# cosine (already have scores / labels)\n",
    "fpr_c, tpr_c, _ = roc_curve(labels, scores)\n",
    "auc_c = auc(fpr_c, tpr_c)\n",
    "\n",
    "# euclidean\n",
    "fpr_e, tpr_e, _ = roc_curve(labels_euc, scores_euc)\n",
    "auc_e = auc(fpr_e, tpr_e)\n",
    "\n",
    "plt.figure()\n",
    "plt.plot(fpr_c, tpr_c, label=f\"Cosine  (AUC={auc_c:.3f})\")\n",
    "plt.plot(fpr_e, tpr_e, label=f\"Euclidean (AUC={auc_e:.3f})\")\n",
    "plt.plot([0,1],[0,1],\"--\", color=\"gray\")\n",
    "plt.xlabel(\"False-Positive Rate\")\n",
    "plt.ylabel(\"True-Positive Rate\")\n",
    "plt.title(\"ROC – Triplet Embeddings\")\n",
    "plt.legend()\n",
    "plt.grid(True)\n",
    "plt.show()\n"
   ]
  }
 ],
 "metadata": {
  "kernelspec": {
   "display_name": "Python 3",
   "language": "python",
   "name": "python3"
  },
  "language_info": {
   "codemirror_mode": {
    "name": "ipython",
    "version": 3
   },
   "file_extension": ".py",
   "mimetype": "text/x-python",
   "name": "python",
   "nbconvert_exporter": "python",
   "pygments_lexer": "ipython3",
   "version": "3.9.21"
  }
 },
 "nbformat": 4,
 "nbformat_minor": 5
}
